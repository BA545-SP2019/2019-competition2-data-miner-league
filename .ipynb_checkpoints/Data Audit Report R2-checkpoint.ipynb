{
 "cells": [
  {
   "cell_type": "markdown",
   "metadata": {},
   "source": [
    "# Data Miner League Competition 2 Data Audit Report"
   ]
  },
  {
   "cell_type": "markdown",
   "metadata": {},
   "source": [
    "## Data and Research Background"
   ]
  },
  {
   "cell_type": "markdown",
   "metadata": {},
   "source": [
    "- What are the detriments of the default of credit card customers?"
   ]
  },
  {
   "cell_type": "markdown",
   "metadata": {},
   "source": [
    "- Per UCI Machine Learning Repository page. \n",
    "-- With the real probability of default as the response variable (Y), and the predictive probability of default as the independent variable (X), the simple linear regression result (Y = A + BX) shows that the forecasting model produced by artificial neural network has the highest coefficient of determination; its regression intercept (A) is close to zero, and regression coefficient (B) to one. Therefore, among the six data mining techniques, artificial neural network is the only one that can accurately estimate the real probability of default."
   ]
  },
  {
   "cell_type": "markdown",
   "metadata": {},
   "source": [
    "## Dataset Description"
   ]
  },
  {
   "cell_type": "markdown",
   "metadata": {},
   "source": [
    "- The dataset contains explanatory information such as Gender, age, and education \n",
    "- There are details/information for 30000 clients.\n",
    "- Gender: About 60% of the clients are female in the given dataset and 40% male.\n",
    "- Age: Age of the clients range from 21 to 79 with an average age of 35.48\n",
    "- Education: There are 345 unknown values in Education that do not fit as defined by our data dictionary.\n",
    "- Other information such as the \"PAY\", \"BILL_AMT\" and \"Pay_AMT\" variables contain history of past payment,amount of bill statement and previous statement (Continous Data)"
   ]
  },
  {
   "cell_type": "markdown",
   "metadata": {},
   "source": [
    "## Data Pre-Processing "
   ]
  },
  {
   "cell_type": "markdown",
   "metadata": {},
   "source": [
    "- First glance there are no null values within the data set\n",
    "- Target Distribution does not have large imbalance as(78%-22%) of the total clients only 22% appear to be defaulting.\n",
    "- Normilization and standardization\n",
    "    - Found skewnesss in the variables \"PAY\", \"BILL_AMT\" and \"PAY_AMT\"\n",
    "    - Determine proper methods for handling this whether that be taking the squaer, log or cube root"
   ]
  },
  {
   "cell_type": "markdown",
   "metadata": {},
   "source": [
    "## Initial Correlation"
   ]
  },
  {
   "cell_type": "markdown",
   "metadata": {},
   "source": [
    "- Using Seaborn, we created a heatmap to determine what variables may be strong indicators of what leads to a defaulted payment"
   ]
  },
  {
   "cell_type": "markdown",
   "metadata": {},
   "source": [
    "- BILL_AMT and PAY_AMT were loose correlated and PAY was one of the highest correlated continuous variables"
   ]
  },
  {
   "cell_type": "markdown",
   "metadata": {},
   "source": [
    "## Logistic Regression Pipeline"
   ]
  },
  {
   "cell_type": "markdown",
   "metadata": {},
   "source": [
    "- Using the correlation results three pipelines were logistic regression were created with the most accurate yielding approximately 81%"
   ]
  },
  {
   "cell_type": "markdown",
   "metadata": {},
   "source": [
    "- This pipeline consisted of not using the BILL_AMT and PAY_AMT variables aswell as the binary data type variables"
   ]
  },
  {
   "cell_type": "markdown",
   "metadata": {},
   "source": [
    "## Upcoming Work"
   ]
  },
  {
   "cell_type": "markdown",
   "metadata": {},
   "source": [
    "- Feature Selection - We should determine which variables actually develop an optimized model\n",
    "- Developing a neural network - As disscussed in the UCI webpage, this method is the optimal datamining technique for this data set. Creating an optimized neural network should be a priority."
   ]
  },
  {
   "cell_type": "code",
   "execution_count": null,
   "metadata": {},
   "outputs": [],
   "source": []
  }
 ],
 "metadata": {
  "kernelspec": {
   "display_name": "Python 3",
   "language": "python",
   "name": "python3"
  },
  "language_info": {
   "codemirror_mode": {
    "name": "ipython",
    "version": 3
   },
   "file_extension": ".py",
   "mimetype": "text/x-python",
   "name": "python",
   "nbconvert_exporter": "python",
   "pygments_lexer": "ipython3",
   "version": "3.6.5"
  }
 },
 "nbformat": 4,
 "nbformat_minor": 2
}
